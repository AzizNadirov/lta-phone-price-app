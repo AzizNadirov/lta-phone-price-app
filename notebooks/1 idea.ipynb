{
 "cells": [
  {
   "cell_type": "markdown",
   "id": "11deae70",
   "metadata": {},
   "source": [
    "# Ideya:\n",
    "\n",
    "\"Bir app quraq, app - bizə desin ki verilmiş telefon modelinin qiyməti nə qədər olmalıdır\"\n",
    "\n",
    "## Suallar:\n",
    "\n",
    "1. Nəyi tapmaq istəyirik?\n",
    "   - girişə verilən telefona görə, onun təqribi qiymətini. \n",
    "2. Qiyməti nəyə əsasən ölçməliyik?\n",
    "   - telefonun bu xüsusiyyətlərinə görə: RAM, ROM, OS, CPU, Brand[?]\n",
    "3. Necə etməliyik?\n",
    "   - Data olacağı təqdirdə yuxarıdakı xüsusiyyətləri `feature`, qiyməti isə `target` kimi təyin edib ML model qurmalıyıq.\n",
    "4. Data var, yığılması mümkün bir şeydir?\n",
    "   - Bəli, yerli(yerli bazara fokuslandığımızçün) platformaları pars etsək yetərincə data toplamaq olar.\n",
    "   - Təkrar-təkrar model telefonlar fərqli mənbələrdə fərqli qiymətlərlə olacaq, deməli orta qiyməti təxmin etmək daha rahat olmalıdı. "
   ]
  },
  {
   "cell_type": "code",
   "execution_count": null,
   "id": "4326b480",
   "metadata": {},
   "outputs": [],
   "source": []
  },
  {
   "cell_type": "code",
   "execution_count": 1,
   "id": "8fb33af3",
   "metadata": {},
   "outputs": [],
   "source": [
    "import pandas as pd\n",
    "\n",
    "df = pd.read_parquet(\"/home/tengo/Documents/code/phoner/src/data/phone-price.parquet\")"
   ]
  },
  {
   "cell_type": "code",
   "execution_count": 4,
   "id": "e7a21fc1",
   "metadata": {},
   "outputs": [
    {
     "name": "stdout",
     "output_type": "stream",
     "text": [
      "|   ProductID |   Prices |   product_id | product_name                                          |   ROM_MB |   RAM_MB | NFC   |   camera_mp_float | CPU                     | OS      |\n",
      "|------------:|---------:|-------------:|:------------------------------------------------------|---------:|---------:|:------|------------------:|:------------------------|:--------|\n",
      "|        2954 |   229.99 |         2954 | Samsung Galaxy A7 3GB/32GB Gold (8806088598062)       |    32768 |     3072 | True  |              14.5 | Samsung Exynos 7880     | Android |\n",
      "|        2964 |  1209.99 |         2964 | Samsung Galaxy Note 8 6GB/64 GB Black (8806088926506) |    65536 |     6144 | True  |               7   | Samsung Exynos 8895     | Android |\n",
      "|        2964 |   499    |         2964 | Samsung Galaxy Note 8 6GB/64 GB Black (8806088926506) |    65536 |     6144 | True  |               7   | Samsung Exynos 8895     | Android |\n",
      "|        2989 |   119.99 |         2989 | ZTE Blade V8 Mini 3GB/32GB Gold                       |    32768 |     3072 |       |               7   | Qualcomm Snapdragon 435 | Android |\n",
      "|        3004 |   385    |         3004 | Xiaomi Mi A1 4GB/64GB Gold                            |    65536 |     4096 | False |               5   | Qualcomm Snapdragon 625 | Android |\n"
     ]
    }
   ],
   "source": [
    "print(df.head().to_markdown(index=False))"
   ]
  },
  {
   "cell_type": "code",
   "execution_count": null,
   "id": "7ae691c6",
   "metadata": {},
   "outputs": [],
   "source": []
  }
 ],
 "metadata": {
  "kernelspec": {
   "display_name": ".venv",
   "language": "python",
   "name": "python3"
  },
  "language_info": {
   "codemirror_mode": {
    "name": "ipython",
    "version": 3
   },
   "file_extension": ".py",
   "mimetype": "text/x-python",
   "name": "python",
   "nbconvert_exporter": "python",
   "pygments_lexer": "ipython3",
   "version": "3.12.3"
  }
 },
 "nbformat": 4,
 "nbformat_minor": 5
}
