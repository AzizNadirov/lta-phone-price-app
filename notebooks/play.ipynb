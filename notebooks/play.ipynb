{
 "cells": [
  {
   "cell_type": "code",
   "execution_count": null,
   "id": "c3ade40d",
   "metadata": {},
   "outputs": [],
   "source": [
    "from markitdown import MarkItDown\n"
   ]
  },
  {
   "cell_type": "code",
   "execution_count": null,
   "id": "4cdb750c",
   "metadata": {},
   "outputs": [],
   "source": []
  },
  {
   "cell_type": "code",
   "execution_count": null,
   "id": "63733575",
   "metadata": {},
   "outputs": [],
   "source": [
    "ds = [{'RAM': '6 GB', 'ROM': '128 GB', 'OS': None, 'brand': 'POCO (Xiaomi)', 'NFC': None, 'camera_mp': None, 'CPU': None, 'error': False}, \n",
    " {'RAM': '6 GB', 'ROM': '128 GB', 'OS': None, 'brand': 'POCO', 'NFC': None, 'camera_mp': None, 'CPU': None, 'error': False}, \n",
    " {'RAM': '6 GB', 'ROM': '128 GB', 'OS': 'Android 12, MIUI 13', 'brand': 'POCO', 'NFC': True, 'camera_mp': 50, 'CPU': 'MediaTek Helio G99 (6nm), Octa-core (2x2.2 GHz Cortex-A7), 8 cores', 'error': False}]"
   ]
  },
  {
   "cell_type": "code",
   "execution_count": null,
   "id": "4ed71dcb",
   "metadata": {},
   "outputs": [],
   "source": [
    "from functools import reduce\n",
    "\n",
    "\n",
    "def merge_dicts_optimized(dict_list: list[dict])->dict:\n",
    "    \"\"\" merge list of dicts \"\"\"\n",
    "    def merge_two(d1, d2):\n",
    "        return {k: v if v is not None else d1.get(k) for k, v in {**d1, **d2}.items()}\n",
    "    return reduce(merge_two, dict_list, {})\n",
    "\n",
    "merge_dicts_optimized(ds)"
   ]
  },
  {
   "cell_type": "code",
   "execution_count": null,
   "id": "4629f6db",
   "metadata": {},
   "outputs": [],
   "source": []
  },
  {
   "cell_type": "code",
   "execution_count": null,
   "id": "1d21af48",
   "metadata": {},
   "outputs": [],
   "source": [
    "import pandas as pd\n",
    "\n",
    "adf = pd.read_csv('/home/tengo/Documents/trash/product_attributes.csv', quotechar='')\n",
    "vadim = pd.read_csv('/home/tengo/Documents/trash/trash.csv').drop(columns='Unnamed: 0')\n",
    "adf['ReportDate']=pd.to_datetime(adf['ReportDate']).dt.date\n",
    "vadim['ReportDate']=pd.to_datetime(vadim['ReportDate']).dt.date"
   ]
  },
  {
   "cell_type": "code",
   "execution_count": null,
   "id": "724fd4ec",
   "metadata": {},
   "outputs": [],
   "source": [
    "adf[adf['SrcProductID'] == 1114716]"
   ]
  },
  {
   "cell_type": "code",
   "execution_count": null,
   "id": "0068270e",
   "metadata": {},
   "outputs": [],
   "source": []
  },
  {
   "cell_type": "code",
   "execution_count": null,
   "id": "79796bc1",
   "metadata": {},
   "outputs": [],
   "source": []
  },
  {
   "cell_type": "code",
   "execution_count": null,
   "id": "48cd4320",
   "metadata": {},
   "outputs": [],
   "source": []
  },
  {
   "cell_type": "code",
   "execution_count": null,
   "id": "02d0c30c",
   "metadata": {},
   "outputs": [],
   "source": []
  },
  {
   "cell_type": "code",
   "execution_count": null,
   "id": "1a82542f",
   "metadata": {},
   "outputs": [],
   "source": []
  },
  {
   "cell_type": "code",
   "execution_count": null,
   "id": "5c6e4d7b",
   "metadata": {},
   "outputs": [],
   "source": []
  },
  {
   "cell_type": "code",
   "execution_count": null,
   "id": "8bc4568e",
   "metadata": {},
   "outputs": [],
   "source": []
  }
 ],
 "metadata": {
  "kernelspec": {
   "display_name": ".venv",
   "language": "python",
   "name": "python3"
  },
  "language_info": {
   "codemirror_mode": {
    "name": "ipython",
    "version": 3
   },
   "file_extension": ".py",
   "mimetype": "text/x-python",
   "name": "python",
   "nbconvert_exporter": "python",
   "pygments_lexer": "ipython3",
   "version": "3.12.3"
  }
 },
 "nbformat": 4,
 "nbformat_minor": 5
}
